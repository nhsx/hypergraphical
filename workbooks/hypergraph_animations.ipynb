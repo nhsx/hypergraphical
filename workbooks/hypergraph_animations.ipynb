{
 "cells": [
  {
   "cell_type": "code",
   "execution_count": null,
   "metadata": {
    "colab": {
     "base_uri": "https://localhost:8080/"
    },
    "id": "NjTx6UwN8L_M",
    "outputId": "7596ef62-2a8d-4e30-9488-3d98f6664194"
   },
   "outputs": [],
   "source": [
    "!sudo apt update\n",
    "!sudo apt install libcairo2-dev ffmpeg \\\n",
    "    texlive texlive-latex-extra texlive-fonts-extra \\\n",
    "    texlive-latex-recommended texlive-science \\\n",
    "    tipa libpango1.0-dev\n",
    "!pip install manim\n",
    "!pip install IPython --upgrade    "
   ]
  },
  {
   "cell_type": "code",
   "execution_count": null,
   "metadata": {
    "id": "SUia5fq6B_zj"
   },
   "outputs": [],
   "source": [
    "from abc import ABC\n",
    "\n",
    "from manim import *"
   ]
  },
  {
   "cell_type": "code",
   "execution_count": null,
   "metadata": {
    "colab": {
     "base_uri": "https://localhost:8080/",
     "height": 741
    },
    "id": "OsvAsVLJ9qQM",
    "outputId": "adac51ab-b8cb-4330-9350-9b8ea52d9a33"
   },
   "outputs": [],
   "source": [
    "%%manim -qm -v WARNING HypergraphExample\n",
    "\n",
    "class OuterLabeledDot(VGroup, ABC):\n",
    "    def __init__(self, position=ORIGIN, swatch=WHITE, label=\"\", **kwargs):\n",
    "        dot = Dot(position, color=swatch)\n",
    "        super().__init__(dot, Tex(label).next_to(dot, 0.4 * UL), **kwargs)\n",
    "\n",
    "\n",
    "class HypergraphExample(ThreeDScene):\n",
    "    def construct(self):\n",
    "        # Transition 1 - Introducing a hypergraph\n",
    "        title = Tex(r\"We can take a hypergraph\")\n",
    "        title.to_corner(UP + LEFT)\n",
    "        d1 = OuterLabeledDot([1, 2, 0], label=\"D1\", swatch=YELLOW),\n",
    "        d2 = OuterLabeledDot([-1, 1, 0], label=\"D2\", swatch=BLUE),\n",
    "        d3 = OuterLabeledDot([1.4, -1.4, 0], label=\"D3\", swatch=GREEN),\n",
    "        d4 = OuterLabeledDot([-3, -2, 0], label=\"D4\", swatch=GREY),\n",
    "        d5 = OuterLabeledDot([3, 1, 0], label=\"D5\", swatch=MAROON)\n",
    "\n",
    "        disease = [d1[0], d2[0], d3[0], d4[0], d5]\n",
    "\n",
    "        a1 = ArcPolygon([-4, -3, 1], [3, -2, 1], [-2, 2, 1])\n",
    "        a2 = ArcPolygon([1, -2, 0.5], [4, 2, 1], [0, 3, 1], color=RED)\n",
    "\n",
    "        edge1 = LabeledDot(Tex(\"e1\", color=BLACK))\n",
    "        edge2 = LabeledDot(Tex(\"e2\", color=BLACK))\n",
    "\n",
    "        self.play(\n",
    "            Write(title),\n",
    "        )\n",
    "\n",
    "        self.wait()\n",
    "\n",
    "        self.play(\n",
    "            FadeIn(*disease)\n",
    "        )\n",
    "\n",
    "        self.wait()\n",
    "\n",
    "        edge1.next_to(a1)\n",
    "        edge2.next_to(a2)\n",
    "\n",
    "        self.play(\n",
    "            Create(a1),\n",
    "            Create(a2),\n",
    "            FadeIn(edge1, edge2)\n",
    "        )\n",
    "\n",
    "        self.wait()\n",
    "\n",
    "        self.play(\n",
    "            FadeOut(\n",
    "                title,\n",
    "                *disease,\n",
    "                a1,\n",
    "                a2\n",
    "            )\n",
    "        )\n",
    "\n",
    "        incidence_matrix = IntegerMatrix([[0, 1],\n",
    "                                          [1, 0],\n",
    "                                          [1, 1],\n",
    "                                          [1, 0],\n",
    "                                          [0, 1]],\n",
    "                                         left_bracket=\"(\",\n",
    "                                         right_bracket=\")\")\n",
    "\n",
    "        incidence_text = Tex(r\"And convert it to an incidence matrix and a bipartite graph.\")\n",
    "        incidence_text.to_corner(UP + LEFT)\n",
    "\n",
    "        self.play(\n",
    "            FadeIn(incidence_text),\n",
    "        )\n",
    "\n",
    "        self.wait()\n",
    "\n",
    "        self.add(edge2, incidence_matrix)\n",
    "\n",
    "        self.wait()\n",
    "\n",
    "        d = VGroup()\n",
    "        d.add(*disease)\n",
    "\n",
    "        l1 = Line(edge1, d[1])\n",
    "        l2 = Line(edge1, d[2])\n",
    "        l3 = Line(edge1, d[3])\n",
    "        l4 = Line(edge2, d[2])\n",
    "        l5 = Line(edge2, d[4])\n",
    "        l6 = Line(edge2, d[0])\n",
    "\n",
    "        self.play(FadeOut(incidence_text))\n",
    "\n",
    "        self.wait()\n",
    "\n",
    "        self.play(\n",
    "            incidence_matrix.animate.shift(LEFT * 5.5, UP),\n",
    "            FadeIn(*disease, a1, a2)\n",
    "        )\n",
    "\n",
    "        self.add(l1, l2, l3, l4, l5, l6)\n",
    "\n",
    "        self.wait()\n",
    "\n",
    "        self.play(\n",
    "            FadeOut(a1, a2)\n",
    "        )\n",
    "\n",
    "        self.wait()\n",
    "\n"
   ]
  },
  {
   "cell_type": "code",
   "execution_count": null,
   "metadata": {
    "id": "eN5V5F009rlq"
   },
   "outputs": [],
   "source": []
  }
 ],
 "metadata": {
  "colab": {
   "provenance": []
  },
  "kernelspec": {
   "display_name": "Python 3",
   "name": "python3"
  },
  "language_info": {
   "name": "python"
  }
 },
 "nbformat": 4,
 "nbformat_minor": 0
}
